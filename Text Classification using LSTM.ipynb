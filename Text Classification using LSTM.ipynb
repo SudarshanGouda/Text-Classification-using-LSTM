{
 "cells": [
  {
   "cell_type": "markdown",
   "id": "273950eb",
   "metadata": {},
   "source": [
    "# Text Classification using LSTM"
   ]
  },
  {
   "cell_type": "code",
   "execution_count": 33,
   "id": "4578f88f",
   "metadata": {},
   "outputs": [],
   "source": [
    "import numpy as np\n",
    "import pandas as pd\n",
    "import matplotlib.pyplot as plt\n",
    "import seaborn as sns\n",
    "import warnings\n",
    "warnings.filterwarnings('ignore')"
   ]
  },
  {
   "cell_type": "code",
   "execution_count": 69,
   "id": "b3b5dc25",
   "metadata": {},
   "outputs": [],
   "source": [
    "from tensorflow.keras.preprocessing.text import Tokenizer\n",
    "from tensorflow.keras.preprocessing.sequence import pad_sequences\n",
    "from tensorflow.keras import Sequential\n",
    "from tensorflow.keras.layers import Dense,LSTM,Input,GlobalMaxPool1D,Embedding,GlobalMaxPooling1D\n",
    "from sklearn.metrics import classification_report,roc_auc_score"
   ]
  },
  {
   "cell_type": "markdown",
   "id": "20e43c15",
   "metadata": {},
   "source": [
    "### Importing Data"
   ]
  },
  {
   "cell_type": "code",
   "execution_count": 35,
   "id": "5f4aafba",
   "metadata": {},
   "outputs": [],
   "source": [
    "df=pd.read_csv('spam.csv')"
   ]
  },
  {
   "cell_type": "code",
   "execution_count": 36,
   "id": "1bbb6c84",
   "metadata": {},
   "outputs": [
    {
     "data": {
      "text/html": [
       "<div>\n",
       "<style scoped>\n",
       "    .dataframe tbody tr th:only-of-type {\n",
       "        vertical-align: middle;\n",
       "    }\n",
       "\n",
       "    .dataframe tbody tr th {\n",
       "        vertical-align: top;\n",
       "    }\n",
       "\n",
       "    .dataframe thead th {\n",
       "        text-align: right;\n",
       "    }\n",
       "</style>\n",
       "<table border=\"1\" class=\"dataframe\">\n",
       "  <thead>\n",
       "    <tr style=\"text-align: right;\">\n",
       "      <th></th>\n",
       "      <th>Category</th>\n",
       "      <th>Message</th>\n",
       "    </tr>\n",
       "  </thead>\n",
       "  <tbody>\n",
       "    <tr>\n",
       "      <th>0</th>\n",
       "      <td>ham</td>\n",
       "      <td>Go until jurong point, crazy.. Available only ...</td>\n",
       "    </tr>\n",
       "    <tr>\n",
       "      <th>1</th>\n",
       "      <td>ham</td>\n",
       "      <td>Ok lar... Joking wif u oni...</td>\n",
       "    </tr>\n",
       "    <tr>\n",
       "      <th>2</th>\n",
       "      <td>spam</td>\n",
       "      <td>Free entry in 2 a wkly comp to win FA Cup fina...</td>\n",
       "    </tr>\n",
       "    <tr>\n",
       "      <th>3</th>\n",
       "      <td>ham</td>\n",
       "      <td>U dun say so early hor... U c already then say...</td>\n",
       "    </tr>\n",
       "    <tr>\n",
       "      <th>4</th>\n",
       "      <td>ham</td>\n",
       "      <td>Nah I don't think he goes to usf, he lives aro...</td>\n",
       "    </tr>\n",
       "  </tbody>\n",
       "</table>\n",
       "</div>"
      ],
      "text/plain": [
       "  Category                                            Message\n",
       "0      ham  Go until jurong point, crazy.. Available only ...\n",
       "1      ham                      Ok lar... Joking wif u oni...\n",
       "2     spam  Free entry in 2 a wkly comp to win FA Cup fina...\n",
       "3      ham  U dun say so early hor... U c already then say...\n",
       "4      ham  Nah I don't think he goes to usf, he lives aro..."
      ]
     },
     "execution_count": 36,
     "metadata": {},
     "output_type": "execute_result"
    }
   ],
   "source": [
    "df.head()"
   ]
  },
  {
   "cell_type": "code",
   "execution_count": 37,
   "id": "ac9ceff4",
   "metadata": {},
   "outputs": [
    {
     "name": "stdout",
     "output_type": "stream",
     "text": [
      "<class 'pandas.core.frame.DataFrame'>\n",
      "RangeIndex: 5572 entries, 0 to 5571\n",
      "Data columns (total 2 columns):\n",
      " #   Column    Non-Null Count  Dtype \n",
      "---  ------    --------------  ----- \n",
      " 0   Category  5572 non-null   object\n",
      " 1   Message   5572 non-null   object\n",
      "dtypes: object(2)\n",
      "memory usage: 87.2+ KB\n"
     ]
    }
   ],
   "source": [
    "df.info()"
   ]
  },
  {
   "cell_type": "code",
   "execution_count": 38,
   "id": "f4fe27a0",
   "metadata": {},
   "outputs": [
    {
     "data": {
      "text/plain": [
       "Category    0\n",
       "Message     0\n",
       "dtype: int64"
      ]
     },
     "execution_count": 38,
     "metadata": {},
     "output_type": "execute_result"
    }
   ],
   "source": [
    "df.isna().sum()"
   ]
  },
  {
   "cell_type": "code",
   "execution_count": 39,
   "id": "5d4e7101",
   "metadata": {},
   "outputs": [
    {
     "data": {
      "text/plain": [
       "<AxesSubplot:xlabel='Category', ylabel='count'>"
      ]
     },
     "execution_count": 39,
     "metadata": {},
     "output_type": "execute_result"
    },
    {
     "data": {
      "image/png": "[encoded data removed]",
      "text/plain": [
       "<Figure size 432x288 with 1 Axes>"
      ]
     },
     "metadata": {
      "needs_background": "light"
     },
     "output_type": "display_data"
    }
   ],
   "source": [
    "sns.countplot(df['Category'])"
   ]
  },
  {
   "cell_type": "code",
   "execution_count": 40,
   "id": "c4fa5738",
   "metadata": {},
   "outputs": [],
   "source": [
    "df['Category']=df['Category'].map({'ham':1,'spam':0})"
   ]
  },
  {
   "cell_type": "code",
   "execution_count": 41,
   "id": "301dab60",
   "metadata": {},
   "outputs": [
    {
     "data": {
      "text/plain": [
       "array([1, 0], dtype=int64)"
      ]
     },
     "execution_count": 41,
     "metadata": {},
     "output_type": "execute_result"
    }
   ],
   "source": [
    "df['Category'].unique()"
   ]
  },
  {
   "cell_type": "code",
   "execution_count": 42,
   "id": "e932f56e",
   "metadata": {},
   "outputs": [],
   "source": [
    "from sklearn.model_selection import train_test_split\n",
    "X=df['Message']\n",
    "y=df['Category']"
   ]
  },
  {
   "cell_type": "code",
   "execution_count": 43,
   "id": "ae058e08",
   "metadata": {},
   "outputs": [],
   "source": [
    "X_train, X_test, y_train, y_test = train_test_split(X, y, test_size=0.3, random_state=42)"
   ]
  },
  {
   "cell_type": "markdown",
   "id": "c202eb20",
   "metadata": {},
   "source": [
    "## Text Processing"
   ]
  },
  {
   "cell_type": "markdown",
   "id": "a772bf18",
   "metadata": {},
   "source": [
    "### Tokenization"
   ]
  },
  {
   "cell_type": "code",
   "execution_count": 44,
   "id": "076530df",
   "metadata": {},
   "outputs": [],
   "source": [
    "tokenizer=Tokenizer(num_words=20000)\n",
    "tokenizer.fit_on_texts(X_train)\n",
    "X_train=tokenizer.texts_to_sequences(X_train)\n",
    "X_test=tokenizer.texts_to_sequences(X_test)"
   ]
  },
  {
   "cell_type": "code",
   "execution_count": 45,
   "id": "7c0f9248",
   "metadata": {
    "scrolled": true
   },
   "outputs": [
    {
     "name": "stdout",
     "output_type": "stream",
     "text": [
      "7500\n"
     ]
    }
   ],
   "source": [
    "word_to_index=tokenizer.word_index\n",
    "print(len(word_to_index))"
   ]
  },
  {
   "cell_type": "markdown",
   "id": "94a6d9dc",
   "metadata": {},
   "source": [
    "### Padding"
   ]
  },
  {
   "cell_type": "code",
   "execution_count": 46,
   "id": "c18d455a",
   "metadata": {},
   "outputs": [],
   "source": [
    "X_train=pad_sequences(X_train)\n",
    "\n",
    "T=X_train.shape\n",
    "T=T[1]"
   ]
  },
  {
   "cell_type": "code",
   "execution_count": 47,
   "id": "58b1c567",
   "metadata": {},
   "outputs": [
    {
     "data": {
      "text/plain": [
       "(1672, 189)"
      ]
     },
     "execution_count": 47,
     "metadata": {},
     "output_type": "execute_result"
    }
   ],
   "source": [
    "X_test=pad_sequences(X_test,maxlen=T)\n",
    "X_test.shape"
   ]
  },
  {
   "cell_type": "code",
   "execution_count": 83,
   "id": "92365090",
   "metadata": {},
   "outputs": [],
   "source": [
    "# ** Embeddindg Dimentionality **\n",
    "\n",
    "D=20\n",
    "\n",
    "# Its an hyper aparameter ( Length of word in sentence want to select)\n",
    "\n",
    "# Hidden state dimentionality (M)\n",
    "\n",
    "M=15\n",
    "\n",
    "# Size of embedding should be (V+1 x D )\n",
    "# Because first index start from 1 not from 0\n",
    "# So if final index of embedding metrix is V then it should be V+1\n",
    "\n",
    "V=len(word_to_index)\n",
    "\n",
    "\n",
    "model=Sequential()\n",
    "model.add(Input(shape=(T,)))\n",
    "model.add(Embedding(V+1,D))\n",
    "model.add(LSTM(M))\n",
    "model.add(Dense(1,activation='softmax'))"
   ]
  },
  {
   "cell_type": "code",
   "execution_count": 49,
   "id": "c78fdc19",
   "metadata": {},
   "outputs": [],
   "source": [
    "from keras.callbacks import EarlyStopping,ReduceLROnPlateau"
   ]
  },
  {
   "cell_type": "code",
   "execution_count": 50,
   "id": "2a8804f7",
   "metadata": {},
   "outputs": [],
   "source": [
    "early_stop=EarlyStopping(monitor='val_accuracy',patience=3)\n",
    "reduceLR=ReduceLROnPlateau(monitor='val_accuarcy',patience=2)"
   ]
  },
  {
   "cell_type": "code",
   "execution_count": 85,
   "id": "be2a0517",
   "metadata": {
    "scrolled": false
   },
   "outputs": [
    {
     "name": "stdout",
     "output_type": "stream",
     "text": [
      "Epoch 1/50\n",
      "61/61 [==============================] - 9s 104ms/step - loss: 0.0000e+00 - accuracy: 0.8659 - val_loss: 0.0000e+00 - val_accuracy: 0.8660\n",
      "Epoch 2/50\n",
      "61/61 [==============================] - 6s 93ms/step - loss: 0.0000e+00 - accuracy: 0.8659 - val_loss: 0.0000e+00 - val_accuracy: 0.8660\n",
      "Epoch 3/50\n",
      "61/61 [==============================] - 6s 95ms/step - loss: 0.0000e+00 - accuracy: 0.8659 - val_loss: 0.0000e+00 - val_accuracy: 0.8660\n",
      "Epoch 4/50\n",
      "61/61 [==============================] - 6s 91ms/step - loss: 0.0000e+00 - accuracy: 0.8659 - val_loss: 0.0000e+00 - val_accuracy: 0.8660\n"
     ]
    },
    {
     "data": {
      "text/plain": [
       "<keras.callbacks.History at 0x21e9ec3d340>"
      ]
     },
     "execution_count": 85,
     "metadata": {},
     "output_type": "execute_result"
    }
   ],
   "source": [
    "model.compile(optimizer='adam',loss='categorical_crossentropy',metrics=['accuracy'])\n",
    "model.fit(X_train,y_train,validation_data=(X_test,y_test),\n",
    "            epochs=50,batch_size=64,callbacks=[early_stop])"
   ]
  },
  {
   "cell_type": "code",
   "execution_count": 86,
   "id": "1c3fb482",
   "metadata": {
    "scrolled": true
   },
   "outputs": [
    {
     "data": {
      "text/plain": [
       "<AxesSubplot:>"
      ]
     },
     "execution_count": 86,
     "metadata": {},
     "output_type": "execute_result"
    },
    {
     "data": {
      "image/png": "[encoded data removed]",
      "text/plain": [
       "<Figure size 432x288 with 1 Axes>"
      ]
     },
     "metadata": {
      "needs_background": "light"
     },
     "output_type": "display_data"
    }
   ],
   "source": [
    "data_feame=pd.DataFrame(model.history.history)\n",
    "data_feame.plot()"
   ]
  },
  {
   "cell_type": "code",
   "execution_count": 88,
   "id": "f43c2151",
   "metadata": {},
   "outputs": [
    {
     "name": "stdout",
     "output_type": "stream",
     "text": [
      "53/53 [==============================] - 1s 22ms/step\n",
      "0.5\n",
      "\n",
      "\n",
      "53/53 [==============================] - 1s 22ms/step\n",
      "              precision    recall  f1-score   support\n",
      "\n",
      "           0       0.00      0.00      0.00       224\n",
      "           1       0.87      1.00      0.93      1448\n",
      "\n",
      "    accuracy                           0.87      1672\n",
      "   macro avg       0.43      0.50      0.46      1672\n",
      "weighted avg       0.75      0.87      0.80      1672\n",
      "\n"
     ]
    }
   ],
   "source": [
    "print(roc_auc_score(y_test,model.predict(X_test)))\n",
    "\n",
    "print('\\n')\n",
    "print(classification_report(y_test,model.predict(X_test)))"
   ]
  },
  {
   "cell_type": "code",
   "execution_count": 89,
   "id": "540e389c",
   "metadata": {},
   "outputs": [],
   "source": [
    "# ** Embeddindg Dimentionality **\n",
    "\n",
    "D=20\n",
    "\n",
    "# Its an hyper aparameter ( Length of word in sentence want to select)\n",
    "\n",
    "# Hidden state dimentionality (M)\n",
    "\n",
    "M=15\n",
    "\n",
    "# Size of embedding should be (V+1 x D )\n",
    "# Because first index start from 1 not from 0\n",
    "# So if final index of embedding metrix is V then it should be V+1\n",
    "\n",
    "V=len(word_to_index)\n",
    "\n",
    "\n",
    "model=Sequential()\n",
    "model.add(Input(shape=(T,)))\n",
    "model.add(Embedding(V+1,D))\n",
    "model.add(LSTM(M,return_sequences=True))\n",
    "model.add(GlobalMaxPool1D())\n",
    "model.add(Dense(1,activation='softmax'))"
   ]
  },
  {
   "cell_type": "code",
   "execution_count": 90,
   "id": "23e92815",
   "metadata": {
    "scrolled": false
   },
   "outputs": [
    {
     "name": "stdout",
     "output_type": "stream",
     "text": [
      "Epoch 1/50\n",
      "61/61 [==============================] - ETA: 0s - loss: 0.0000e+00 - accuracy: 0.8659WARNING:tensorflow:Learning rate reduction is conditioned on metric `val_accuarcy` which is not available. Available metrics are: loss,accuracy,val_loss,val_accuracy,lr\n",
      "61/61 [==============================] - 10s 110ms/step - loss: 0.0000e+00 - accuracy: 0.8659 - val_loss: 0.0000e+00 - val_accuracy: 0.8660 - lr: 0.0010\n",
      "Epoch 2/50\n",
      "61/61 [==============================] - ETA: 0s - loss: 0.0000e+00 - accuracy: 0.8659WARNING:tensorflow:Learning rate reduction is conditioned on metric `val_accuarcy` which is not available. Available metrics are: loss,accuracy,val_loss,val_accuracy,lr\n",
      "61/61 [==============================] - 6s 96ms/step - loss: 0.0000e+00 - accuracy: 0.8659 - val_loss: 0.0000e+00 - val_accuracy: 0.8660 - lr: 0.0010\n",
      "Epoch 3/50\n",
      "61/61 [==============================] - ETA: 0s - loss: 0.0000e+00 - accuracy: 0.8659WARNING:tensorflow:Learning rate reduction is conditioned on metric `val_accuarcy` which is not available. Available metrics are: loss,accuracy,val_loss,val_accuracy,lr\n",
      "61/61 [==============================] - 6s 97ms/step - loss: 0.0000e+00 - accuracy: 0.8659 - val_loss: 0.0000e+00 - val_accuracy: 0.8660 - lr: 0.0010\n",
      "Epoch 4/50\n",
      "61/61 [==============================] - ETA: 0s - loss: 0.0000e+00 - accuracy: 0.8659WARNING:tensorflow:Learning rate reduction is conditioned on metric `val_accuarcy` which is not available. Available metrics are: loss,accuracy,val_loss,val_accuracy,lr\n",
      "61/61 [==============================] - 6s 94ms/step - loss: 0.0000e+00 - accuracy: 0.8659 - val_loss: 0.0000e+00 - val_accuracy: 0.8660 - lr: 0.0010\n"
     ]
    },
    {
     "data": {
      "text/plain": [
       "<keras.callbacks.History at 0x21ea2299100>"
      ]
     },
     "execution_count": 90,
     "metadata": {},
     "output_type": "execute_result"
    }
   ],
   "source": [
    "model.compile(optimizer='adam',loss='categorical_crossentropy',metrics=['accuracy'])\n",
    "model.fit(X_train,y_train,validation_data=(X_test,y_test),\n",
    "            epochs=50,batch_size=64,callbacks=[reduceLR,early_stop])"
   ]
  },
  {
   "cell_type": "code",
   "execution_count": 91,
   "id": "c3f19dd2",
   "metadata": {},
   "outputs": [
    {
     "data": {
      "text/plain": [
       "<AxesSubplot:>"
      ]
     },
     "execution_count": 91,
     "metadata": {},
     "output_type": "execute_result"
    },
    {
     "data": {
      "image/png": "[encoded data removed]",
      "text/plain": [
       "<Figure size 432x288 with 1 Axes>"
      ]
     },
     "metadata": {
      "needs_background": "light"
     },
     "output_type": "display_data"
    }
   ],
   "source": [
    "data_feame=pd.DataFrame(model.history.history)\n",
    "data_feame.plot()"
   ]
  },
  {
   "cell_type": "code",
   "execution_count": 92,
   "id": "86a1a265",
   "metadata": {},
   "outputs": [
    {
     "name": "stdout",
     "output_type": "stream",
     "text": [
      "53/53 [==============================] - 2s 24ms/step\n",
      "0.5\n",
      "\n",
      "\n",
      "53/53 [==============================] - 1s 22ms/step\n",
      "              precision    recall  f1-score   support\n",
      "\n",
      "           0       0.00      0.00      0.00       224\n",
      "           1       0.87      1.00      0.93      1448\n",
      "\n",
      "    accuracy                           0.87      1672\n",
      "   macro avg       0.43      0.50      0.46      1672\n",
      "weighted avg       0.75      0.87      0.80      1672\n",
      "\n"
     ]
    }
   ],
   "source": [
    "print(roc_auc_score(y_test,model.predict(X_test)))\n",
    "\n",
    "print('\\n')\n",
    "print(classification_report(y_test,model.predict(X_test)))"
   ]
  }
 ],
 "metadata": {
  "kernelspec": {
   "display_name": "Python 3 (ipykernel)",
   "language": "python",
   "name": "python3"
  },
  "language_info": {
   "codemirror_mode": {
    "name": "ipython",
    "version": 3
   },
   "file_extension": ".py",
   "mimetype": "text/x-python",
   "name": "python",
   "nbconvert_exporter": "python",
   "pygments_lexer": "ipython3",
   "version": "3.9.12"
  }
 },
 "nbformat": 4,
 "nbformat_minor": 5
}
